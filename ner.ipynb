{
 "cells": [
  {
   "cell_type": "code",
   "execution_count": 1,
   "metadata": {},
   "outputs": [
    {
     "name": "stderr",
     "output_type": "stream",
     "text": [
      "/Users/h/anaconda3/lib/python3.6/site-packages/h5py/__init__.py:36: FutureWarning: Conversion of the second argument of issubdtype from `float` to `np.floating` is deprecated. In future, it will be treated as `np.float64 == np.dtype(float).type`.\n",
      "  from ._conv import register_converters as _register_converters\n",
      "Using TensorFlow backend.\n"
     ]
    }
   ],
   "source": [
    "#https://www.depends-on-the-definition.com/guide-sequence-tagging-neural-networks-python/\n",
    "#https://www.depends-on-the-definition.com/sequence-tagging-lstm-crf/\n",
    "import pandas as pd\n",
    "import numpy as np\n",
    "import matplotlib.pyplot as plt\n",
    "from sklearn.model_selection import train_test_split\n",
    "from keras.preprocessing.sequence import pad_sequences\n",
    "from keras.utils import to_categorical\n",
    "\n",
    "from keras.models import Model, Input\n",
    "from keras.layers import LSTM, Embedding, Dense, TimeDistributed, Dropout, Bidirectional\n",
    "from keras_contrib.layers import CRF\n",
    "\n",
    "from seqeval.metrics import precision_score, recall_score, f1_score, classification_report"
   ]
  },
  {
   "cell_type": "markdown",
   "metadata": {},
   "source": [
    "data from kaggle https://www.kaggle.com/abhinavwalia95/entity-annotated-corpus"
   ]
  },
  {
   "cell_type": "code",
   "execution_count": 2,
   "metadata": {},
   "outputs": [
    {
     "data": {
      "text/html": [
       "<div>\n",
       "<style scoped>\n",
       "    .dataframe tbody tr th:only-of-type {\n",
       "        vertical-align: middle;\n",
       "    }\n",
       "\n",
       "    .dataframe tbody tr th {\n",
       "        vertical-align: top;\n",
       "    }\n",
       "\n",
       "    .dataframe thead th {\n",
       "        text-align: right;\n",
       "    }\n",
       "</style>\n",
       "<table border=\"1\" class=\"dataframe\">\n",
       "  <thead>\n",
       "    <tr style=\"text-align: right;\">\n",
       "      <th></th>\n",
       "      <th>Sentence #</th>\n",
       "      <th>Word</th>\n",
       "      <th>POS</th>\n",
       "      <th>Tag</th>\n",
       "    </tr>\n",
       "  </thead>\n",
       "  <tbody>\n",
       "    <tr>\n",
       "      <th>1048570</th>\n",
       "      <td>NaN</td>\n",
       "      <td>they</td>\n",
       "      <td>PRP</td>\n",
       "      <td>O</td>\n",
       "    </tr>\n",
       "    <tr>\n",
       "      <th>1048571</th>\n",
       "      <td>NaN</td>\n",
       "      <td>responded</td>\n",
       "      <td>VBD</td>\n",
       "      <td>O</td>\n",
       "    </tr>\n",
       "    <tr>\n",
       "      <th>1048572</th>\n",
       "      <td>NaN</td>\n",
       "      <td>to</td>\n",
       "      <td>TO</td>\n",
       "      <td>O</td>\n",
       "    </tr>\n",
       "    <tr>\n",
       "      <th>1048573</th>\n",
       "      <td>NaN</td>\n",
       "      <td>the</td>\n",
       "      <td>DT</td>\n",
       "      <td>O</td>\n",
       "    </tr>\n",
       "    <tr>\n",
       "      <th>1048574</th>\n",
       "      <td>NaN</td>\n",
       "      <td>attack</td>\n",
       "      <td>NN</td>\n",
       "      <td>O</td>\n",
       "    </tr>\n",
       "  </tbody>\n",
       "</table>\n",
       "</div>"
      ],
      "text/plain": [
       "        Sentence #       Word  POS Tag\n",
       "1048570        NaN       they  PRP   O\n",
       "1048571        NaN  responded  VBD   O\n",
       "1048572        NaN         to   TO   O\n",
       "1048573        NaN        the   DT   O\n",
       "1048574        NaN     attack   NN   O"
      ]
     },
     "execution_count": 2,
     "metadata": {},
     "output_type": "execute_result"
    }
   ],
   "source": [
    "def read_data(path_read):\n",
    "    df = pd.read_csv(path_read, encoding=\"latin1\")    \n",
    "    return df\n",
    "\n",
    "path_read= \"data/ner_dataset.csv\"\n",
    "df= read_data(path_read)\n",
    "df.tail()\n",
    "\n",
    "#df= df[:5000]"
   ]
  },
  {
   "cell_type": "code",
   "execution_count": 3,
   "metadata": {},
   "outputs": [
    {
     "data": {
      "text/html": [
       "<div>\n",
       "<style scoped>\n",
       "    .dataframe tbody tr th:only-of-type {\n",
       "        vertical-align: middle;\n",
       "    }\n",
       "\n",
       "    .dataframe tbody tr th {\n",
       "        vertical-align: top;\n",
       "    }\n",
       "\n",
       "    .dataframe thead th {\n",
       "        text-align: right;\n",
       "    }\n",
       "</style>\n",
       "<table border=\"1\" class=\"dataframe\">\n",
       "  <thead>\n",
       "    <tr style=\"text-align: right;\">\n",
       "      <th></th>\n",
       "      <th>Sentence #</th>\n",
       "      <th>Word</th>\n",
       "      <th>POS</th>\n",
       "      <th>Tag</th>\n",
       "    </tr>\n",
       "  </thead>\n",
       "  <tbody>\n",
       "    <tr>\n",
       "      <th>1048570</th>\n",
       "      <td>Sentence: 47959</td>\n",
       "      <td>they</td>\n",
       "      <td>PRP</td>\n",
       "      <td>O</td>\n",
       "    </tr>\n",
       "    <tr>\n",
       "      <th>1048571</th>\n",
       "      <td>Sentence: 47959</td>\n",
       "      <td>responded</td>\n",
       "      <td>VBD</td>\n",
       "      <td>O</td>\n",
       "    </tr>\n",
       "    <tr>\n",
       "      <th>1048572</th>\n",
       "      <td>Sentence: 47959</td>\n",
       "      <td>to</td>\n",
       "      <td>TO</td>\n",
       "      <td>O</td>\n",
       "    </tr>\n",
       "    <tr>\n",
       "      <th>1048573</th>\n",
       "      <td>Sentence: 47959</td>\n",
       "      <td>the</td>\n",
       "      <td>DT</td>\n",
       "      <td>O</td>\n",
       "    </tr>\n",
       "    <tr>\n",
       "      <th>1048574</th>\n",
       "      <td>Sentence: 47959</td>\n",
       "      <td>attack</td>\n",
       "      <td>NN</td>\n",
       "      <td>O</td>\n",
       "    </tr>\n",
       "  </tbody>\n",
       "</table>\n",
       "</div>"
      ],
      "text/plain": [
       "              Sentence #       Word  POS Tag\n",
       "1048570  Sentence: 47959       they  PRP   O\n",
       "1048571  Sentence: 47959  responded  VBD   O\n",
       "1048572  Sentence: 47959         to   TO   O\n",
       "1048573  Sentence: 47959        the   DT   O\n",
       "1048574  Sentence: 47959     attack   NN   O"
      ]
     },
     "execution_count": 3,
     "metadata": {},
     "output_type": "execute_result"
    }
   ],
   "source": [
    "def fix_missing_value(df):\n",
    "    df = df.fillna(method=\"ffill\")\n",
    "    return df\n",
    "df= fix_missing_value(df)\n",
    "df.tail()"
   ]
  },
  {
   "cell_type": "code",
   "execution_count": 4,
   "metadata": {},
   "outputs": [
    {
     "name": "stdout",
     "output_type": "stream",
     "text": [
      "total words number: 35179\n",
      "total tags number: 17\n"
     ]
    }
   ],
   "source": [
    "def get_words_tags(df):\n",
    "    words = list(set(df[\"Word\"].values))\n",
    "    words.append(\"ENDPAD\")\n",
    "    n_words = len(words)\n",
    "    print(\"total words number:\", n_words)\n",
    "    \n",
    "    tags = list(set(df[\"Tag\"].values))\n",
    "    n_tags = len(tags)\n",
    "    print(\"total tags number:\", n_tags)\n",
    "    \n",
    "    return words, tags, n_words, n_tags\n",
    "\n",
    "words, tags, n_words, n_tags= get_words_tags(df)"
   ]
  },
  {
   "cell_type": "code",
   "execution_count": 5,
   "metadata": {},
   "outputs": [],
   "source": [
    "class SentenceGetter(object):\n",
    "    \n",
    "    def __init__(self, data):\n",
    "        self.n_sent = 1\n",
    "        self.data = data\n",
    "        self.empty = False\n",
    "        agg_func = lambda s: [(w, p, t) for w, p, t in zip(s[\"Word\"].values.tolist(),\n",
    "                                                           s[\"POS\"].values.tolist(),\n",
    "                                                           s[\"Tag\"].values.tolist())]\n",
    "        self.grouped = self.data.groupby(\"Sentence #\").apply(agg_func)\n",
    "        self.sentences = [s for s in self.grouped]\n",
    "    \n",
    "    def get_next(self):\n",
    "        try:\n",
    "            s = self.grouped[\"Sentence: {}\".format(self.n_sent)]\n",
    "            self.n_sent += 1\n",
    "            return s\n",
    "        except:\n",
    "            return None\n",
    "        \n",
    "getter = SentenceGetter(df)   \n",
    "sentences = getter.sentences"
   ]
  },
  {
   "cell_type": "code",
   "execution_count": 6,
   "metadata": {},
   "outputs": [
    {
     "data": {
      "image/png": "[encoded data removed]",
      "text/plain": [
       "<Figure size 432x288 with 1 Axes>"
      ]
     },
     "metadata": {},
     "output_type": "display_data"
    }
   ],
   "source": [
    "def plot_sent_lens(sentences):\n",
    "    plt.style.use(\"ggplot\")\n",
    "    plt.hist([len(s) for s in sentences], bins=50)\n",
    "    plt.show()\n",
    "plot_sent_lens(sentences)"
   ]
  },
  {
   "cell_type": "code",
   "execution_count": 7,
   "metadata": {},
   "outputs": [],
   "source": [
    "def encoding(max_len, sentences, words, tags):\n",
    "    word2idx = {w: i + 1 for i, w in enumerate(words)}\n",
    "    tag2idx = {t: i for i, t in enumerate(tags)}\n",
    "    X = [[word2idx[w[0]] for w in s] for s in sentences]\n",
    "    X = pad_sequences(maxlen=max_len, sequences=X, padding=\"post\", value=n_words-1)\n",
    "\n",
    "    y = [[tag2idx[w[2]] for w in s] for s in sentences]\n",
    "    y = pad_sequences(maxlen=max_len, sequences=y, padding=\"post\", value=tag2idx[\"O\"])\n",
    "    y = [to_categorical(i, num_classes=n_tags) for i in y]\n",
    "    X_train, X_test, y_train, y_test = train_test_split(X, y, test_size=0.1)\n",
    "\n",
    "    return X_train, X_test, y_train, y_test, word2idx, tag2idx\n",
    "\n",
    "max_len = 75\n",
    "X_train, X_test, y_train, y_test, word2idx, tag2idx= encoding(max_len, sentences, words, tags)"
   ]
  },
  {
   "cell_type": "code",
   "execution_count": 8,
   "metadata": {},
   "outputs": [],
   "source": [
    "def model_LSTM(max_len, n_words, n_tags):\n",
    "    input = Input(shape=(max_len,))\n",
    "    model = Embedding(input_dim=n_words, output_dim=50, input_length=max_len)(input)\n",
    "    model = Dropout(0.1)(model)\n",
    "    model = Bidirectional(LSTM(units=100, return_sequences=True, recurrent_dropout=0.1))(model)\n",
    "    out = TimeDistributed(Dense(n_tags, activation=\"softmax\"))(model)  # softmax output layer\n",
    "    model = Model(input, out)\n",
    "    model.compile(optimizer=\"rmsprop\", loss=\"categorical_crossentropy\", metrics=[\"accuracy\"])\n",
    "\n",
    "    model.summary()\n",
    "    return model"
   ]
  },
  {
   "cell_type": "code",
   "execution_count": 9,
   "metadata": {},
   "outputs": [],
   "source": [
    "def model_LSTM_CRF(max_len, n_words, n_tags):\n",
    "    input = Input(shape=(max_len,))\n",
    "    model = Embedding(input_dim=n_words + 1, output_dim=20,\n",
    "                      input_length=max_len, mask_zero=True)(input)  # 20-dim embedding\n",
    "    model = Bidirectional(LSTM(units=50, return_sequences=True,\n",
    "                               recurrent_dropout=0.1))(model)  # variational biLSTM\n",
    "    model = TimeDistributed(Dense(50, activation=\"relu\"))(model)  # a dense layer as suggested by neuralNer\n",
    "    crf = CRF(n_tags)  # CRF layer\n",
    "    out = crf(model)  # output\n",
    "    model = Model(input, out)\n",
    "    model.compile(optimizer=\"rmsprop\", loss=crf.loss_function, metrics=[crf.accuracy])\n",
    "    model.summary()\n",
    "    return model"
   ]
  },
  {
   "cell_type": "code",
   "execution_count": 10,
   "metadata": {},
   "outputs": [
    {
     "name": "stdout",
     "output_type": "stream",
     "text": [
      "_________________________________________________________________\n",
      "Layer (type)                 Output Shape              Param #   \n",
      "=================================================================\n",
      "input_1 (InputLayer)         (None, 75)                0         \n",
      "_________________________________________________________________\n",
      "embedding_1 (Embedding)      (None, 75, 20)            703600    \n",
      "_________________________________________________________________\n",
      "bidirectional_1 (Bidirection (None, 75, 100)           28400     \n",
      "_________________________________________________________________\n",
      "time_distributed_1 (TimeDist (None, 75, 50)            5050      \n",
      "_________________________________________________________________\n",
      "crf_1 (CRF)                  (None, 75, 17)            1190      \n",
      "=================================================================\n",
      "Total params: 738,240\n",
      "Trainable params: 738,240\n",
      "Non-trainable params: 0\n",
      "_________________________________________________________________\n"
     ]
    }
   ],
   "source": [
    "model= model_LSTM_CRF(max_len, n_words, n_tags)"
   ]
  },
  {
   "cell_type": "code",
   "execution_count": 11,
   "metadata": {},
   "outputs": [],
   "source": [
    "def plot_history(history):\n",
    "    hist = pd.DataFrame(history.history)\n",
    "    plt.style.use(\"ggplot\")\n",
    "    plt.figure(figsize=(12,12))\n",
    "    plt.plot(hist[\"acc\"])\n",
    "    plt.plot(hist[\"val_acc\"])\n",
    "    plt.show()"
   ]
  },
  {
   "cell_type": "code",
   "execution_count": 16,
   "metadata": {},
   "outputs": [
    {
     "name": "stdout",
     "output_type": "stream",
     "text": [
      "Train on 38846 samples, validate on 4317 samples\n",
      "Epoch 1/3\n",
      "38846/38846 [==============================] - 240s 6ms/step - loss: 0.0335 - acc: 0.9877 - val_loss: 0.0283 - val_acc: 0.9891\n",
      "Epoch 2/3\n",
      "38846/38846 [==============================] - 228s 6ms/step - loss: 0.0245 - acc: 0.9902 - val_loss: 0.0244 - val_acc: 0.9901\n",
      "Epoch 3/3\n",
      "38846/38846 [==============================] - 241s 6ms/step - loss: 0.0211 - acc: 0.9912 - val_loss: 0.0226 - val_acc: 0.9906\n"
     ]
    },
    {
     "data": {
      "image/png": "[encoded data removed]",
      "text/plain": [
       "<Figure size 864x864 with 1 Axes>"
      ]
     },
     "metadata": {},
     "output_type": "display_data"
    },
    {
     "name": "stdout",
     "output_type": "stream",
     "text": [
      "4796/4796 [==============================] - 7s 1ms/step\n"
     ]
    }
   ],
   "source": [
    "def train_model(batch_size= 32, epochs=3, X_train= X_train, y_train= y_train, X_test= X_test):\n",
    "    history = model.fit(X_train, np.array(y_train), batch_size= batch_size, epochs= epochs,\n",
    "                        validation_split=0.1, verbose=1)\n",
    "    \n",
    "    plot_history(history)\n",
    "    \n",
    "    test_pred = model.predict(X_test, verbose=1)\n",
    "    return test_pred\n",
    "    \n",
    "batch_size=32\n",
    "epochs=3\n",
    "test_pred= train_model(batch_size, epochs)"
   ]
  },
  {
   "cell_type": "code",
   "execution_count": 17,
   "metadata": {},
   "outputs": [],
   "source": [
    "def pred2label(pred):\n",
    "    idx2tag = {i: w for w, i in tag2idx.items()}\n",
    "    \n",
    "    out = []\n",
    "    for pred_i in pred:\n",
    "        out_i = []\n",
    "        for p in pred_i:\n",
    "            p_i = np.argmax(p)\n",
    "            out_i.append(idx2tag[p_i].replace(\"PAD\", \"O\"))\n",
    "        out.append(out_i)\n",
    "    return out\n",
    "\n",
    "pred_labels = pred2label(test_pred)\n",
    "test_labels = pred2label(y_test)"
   ]
  },
  {
   "cell_type": "code",
   "execution_count": 18,
   "metadata": {},
   "outputs": [
    {
     "name": "stdout",
     "output_type": "stream",
     "text": [
      "F1-score: 82.8%\n",
      "             precision    recall  f1-score   support\n",
      "\n",
      "        gpe       0.97      0.92      0.94      1560\n",
      "        tim       0.89      0.84      0.86      2049\n",
      "        per       0.78      0.77      0.77      1638\n",
      "        geo       0.83      0.90      0.86      3660\n",
      "        org       0.78      0.62      0.69      1978\n",
      "        eve       0.00      0.00      0.00        29\n",
      "        art       0.00      0.00      0.00        50\n",
      "        nat       0.00      0.00      0.00        15\n",
      "\n",
      "avg / total       0.83      0.81      0.82     10979\n",
      "\n"
     ]
    }
   ],
   "source": [
    "def evaluation(test_labels, pred_labels):\n",
    "    print(\"F1-score: {:.1%}\".format(f1_score(test_labels, pred_labels)))  \n",
    "    print(classification_report(test_labels, pred_labels))  \n",
    "\n",
    "evaluation(test_labels, pred_labels)"
   ]
  },
  {
   "cell_type": "code",
   "execution_count": 19,
   "metadata": {},
   "outputs": [
    {
     "name": "stdout",
     "output_type": "stream",
     "text": [
      "Word           ||True ||Pred\n",
      "==============================\n",
      "The            : O     O\n",
      "group          : O     O\n",
      "now            : O     O\n",
      "has            : O     O\n",
      "57             : O     O\n",
      "members        : O     O\n",
      "and            : O     O\n",
      "is             : O     O\n",
      "looking        : O     O\n",
      "for            : O     O\n",
      "new            : O     O\n",
      "recruits       : O     O\n",
      "outside        : O     O\n",
      "the            : O     O\n",
      "United         : B-geo B-geo\n",
      "States         : I-geo I-geo\n",
      ".              : O     O\n",
      "cities         : O     O\n",
      "cities         : O     O\n",
      "cities         : O     O\n",
      "cities         : O     O\n",
      "cities         : O     O\n",
      "cities         : O     O\n",
      "cities         : O     O\n",
      "cities         : O     O\n",
      "cities         : O     O\n",
      "cities         : O     O\n",
      "cities         : O     O\n",
      "cities         : O     O\n",
      "cities         : O     O\n",
      "cities         : O     O\n",
      "cities         : O     O\n",
      "cities         : O     O\n",
      "cities         : O     O\n",
      "cities         : O     O\n",
      "cities         : O     O\n",
      "cities         : O     O\n",
      "cities         : O     O\n",
      "cities         : O     O\n",
      "cities         : O     O\n",
      "cities         : O     O\n",
      "cities         : O     O\n",
      "cities         : O     O\n",
      "cities         : O     O\n",
      "cities         : O     O\n",
      "cities         : O     O\n",
      "cities         : O     O\n",
      "cities         : O     O\n",
      "cities         : O     O\n",
      "cities         : O     O\n",
      "cities         : O     O\n",
      "cities         : O     O\n",
      "cities         : O     O\n",
      "cities         : O     O\n",
      "cities         : O     O\n",
      "cities         : O     O\n",
      "cities         : O     O\n",
      "cities         : O     O\n",
      "cities         : O     O\n",
      "cities         : O     O\n",
      "cities         : O     O\n",
      "cities         : O     O\n",
      "cities         : O     O\n",
      "cities         : O     O\n",
      "cities         : O     O\n",
      "cities         : O     O\n",
      "cities         : O     O\n",
      "cities         : O     O\n",
      "cities         : O     O\n",
      "cities         : O     O\n",
      "cities         : O     O\n",
      "cities         : O     O\n",
      "cities         : O     O\n",
      "cities         : O     O\n",
      "cities         : O     O\n"
     ]
    }
   ],
   "source": [
    "def test_case(i, model, X_test):\n",
    "    p = model.predict(np.array([X_test[i]]))\n",
    "    p = np.argmax(p, axis=-1)\n",
    "    true = np.argmax(y_test[i], -1)\n",
    "    print(\"{:15}||{:5}||{}\".format(\"Word\", \"True\", \"Pred\"))\n",
    "    print(30 * \"=\")\n",
    "    for w, t, pred in zip(X_test[i], true, p[0]):\n",
    "        if w != 0:\n",
    "            print(\"{:15}: {:5} {}\".format(words[w-1], tags[t], tags[pred]))\n",
    "\n",
    "i = 1927\n",
    "test_case(i, model, X_test)"
   ]
  },
  {
   "cell_type": "code",
   "execution_count": null,
   "metadata": {},
   "outputs": [],
   "source": []
  },
  {
   "cell_type": "code",
   "execution_count": null,
   "metadata": {},
   "outputs": [],
   "source": []
  },
  {
   "cell_type": "code",
   "execution_count": null,
   "metadata": {},
   "outputs": [],
   "source": []
  }
 ],
 "metadata": {
  "kernelspec": {
   "display_name": "Python 3",
   "language": "python",
   "name": "python3"
  },
  "language_info": {
   "codemirror_mode": {
    "name": "ipython",
    "version": 3
   },
   "file_extension": ".py",
   "mimetype": "text/x-python",
   "name": "python",
   "nbconvert_exporter": "python",
   "pygments_lexer": "ipython3",
   "version": "3.6.5"
  }
 },
 "nbformat": 4,
 "nbformat_minor": 2
}
